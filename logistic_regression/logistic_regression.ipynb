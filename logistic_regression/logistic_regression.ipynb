{
 "cells": [
  {
   "attachments": {},
   "cell_type": "markdown",
   "metadata": {},
   "source": [
    "# Logistic Regression"
   ]
  },
  {
   "attachments": {},
   "cell_type": "markdown",
   "metadata": {},
   "source": [
    "### 1 &ensp; Setup"
   ]
  },
  {
   "attachments": {},
   "cell_type": "markdown",
   "metadata": {},
   "source": [
    "First, we will import some important packages in order to analyze the data throughout the exercise."
   ]
  },
  {
   "cell_type": "code",
   "execution_count": 1,
   "metadata": {},
   "outputs": [
    {
     "name": "stderr",
     "output_type": "stream",
     "text": [
      "c:\\Users\\OmriG\\AppData\\Local\\Programs\\Python\\Python39\\lib\\site-packages\\scipy\\__init__.py:146: UserWarning: A NumPy version >=1.16.5 and <1.23.0 is required for this version of SciPy (detected version 1.24.2\n",
      "  warnings.warn(f\"A NumPy version >={np_minversion} and <{np_maxversion}\"\n"
     ]
    }
   ],
   "source": [
    "import numpy as np\n",
    "import pandas as pd\n",
    "import matplotlib.pyplot as plt\n",
    "\n",
    "from sklearn.model_selection import train_test_split\n",
    "from sklearn.feature_extraction.text import TfidfVectorizer"
   ]
  },
  {
   "attachments": {},
   "cell_type": "markdown",
   "metadata": {},
   "source": [
    "### 2 &ensp; Implementation"
   ]
  },
  {
   "attachments": {},
   "cell_type": "markdown",
   "metadata": {},
   "source": [
    "We first implemented our sigmoid function"
   ]
  },
  {
   "cell_type": "code",
   "execution_count": 2,
   "metadata": {},
   "outputs": [],
   "source": [
    "def sigmoid(z):\n",
    "        return 1 / (1 + np.exp(-z))"
   ]
  },
  {
   "attachments": {},
   "cell_type": "markdown",
   "metadata": {},
   "source": [
    "Before we applied the Logistic Regression, we had implemented it ourselves.\\\n",
    "Our class contains the essential methods including 'fit', 'predict', 'predict_proba', and 'score'."
   ]
  },
  {
   "cell_type": "code",
   "execution_count": 3,
   "metadata": {},
   "outputs": [],
   "source": [
    "class LogisticRegression:\n",
    "\n",
    "    def fit(self, X, y, lr=1e-1, epochs=10):\n",
    "        \n",
    "        # Initialize random weights\n",
    "        self.weights = np.random.standard_normal(X.shape[1])\n",
    "\n",
    "        # Start training our model\n",
    "        print(f\"\\n#################\")\n",
    "        print(f\"# Start Training\")\n",
    "        for e in range(1, epochs + 1):\n",
    "            print(f\"## epoch {e} \")\n",
    "            \n",
    "            # Calculate gradient\n",
    "            gradient = np.zeros_like(self.weights)\n",
    "            for xi, yi in zip(X, y):\n",
    "                gradient += sigmoid(-yi * self.weights @ xi) * (-yi) * xi\n",
    "            \n",
    "            # Update weights\n",
    "            self.weights -= lr * gradient\n",
    "\n",
    "            print(f\"### train score: {self.score(X, y)}\")\n",
    "        print(f\"# Finish Training\")\n",
    "        print(f\"#################\\n\")\n",
    "\n",
    "        return self\n",
    "\n",
    "    def predict_proba(self, X):\n",
    "        # Use sigmoid to estimate the probability of X being labeled as positive\n",
    "        return sigmoid(X @ self.weights)\n",
    "\n",
    "    def predict(self, X, threshold=0.5):\n",
    "        # Predict the labels according to the threshold\n",
    "        return 2 * (self.predict_proba(X) >= threshold) - 1\n",
    "\n",
    "    def score(self, X, y):\n",
    "        # Calculating the accuracy score of our predictions\n",
    "        return (self.predict(X) == y).sum() / len(y)"
   ]
  },
  {
   "attachments": {},
   "cell_type": "markdown",
   "metadata": {},
   "source": [
    "### 3 &ensp; Ham-Spam Dataset"
   ]
  },
  {
   "attachments": {},
   "cell_type": "markdown",
   "metadata": {},
   "source": [
    "We created our own 'train_test_split' method in order to have a better control over the test size and random state."
   ]
  },
  {
   "cell_type": "code",
   "execution_count": 4,
   "metadata": {},
   "outputs": [],
   "source": [
    "# Proxy function to control test size and random state\n",
    "def my_train_test_split(X, y):\n",
    "    return train_test_split(X, y, test_size=0.2, random_state=42)"
   ]
  },
  {
   "attachments": {},
   "cell_type": "markdown",
   "metadata": {},
   "source": [
    "One last preparation was to create a preprocess function to transpose our data from text to vectors"
   ]
  },
  {
   "cell_type": "code",
   "execution_count": 5,
   "metadata": {},
   "outputs": [],
   "source": [
    "def preprocess_emails(emails_train, emails_test):\n",
    "    \n",
    "    # Fitting the tf-idf vectorizer on our train set\n",
    "    tfidf = TfidfVectorizer().fit(emails_train)\n",
    "\n",
    "    # Transforming all the data to tf-idf vectors\n",
    "    train_embeddings = tfidf.transform(emails_train).toarray()\n",
    "    test_embeddings = tfidf.transform(emails_test).toarray()\n",
    "\n",
    "    return train_embeddings, test_embeddings"
   ]
  },
  {
   "attachments": {},
   "cell_type": "markdown",
   "metadata": {},
   "source": [
    "Finally, we used our Logistic Regression on the spam_ham data that was provided to us."
   ]
  },
  {
   "cell_type": "code",
   "execution_count": 6,
   "metadata": {},
   "outputs": [
    {
     "name": "stdout",
     "output_type": "stream",
     "text": [
      "\n",
      "#################\n",
      "# Start Training\n",
      "## epoch 1 \n",
      "### train score: 0.7560444874274661\n",
      "## epoch 2 \n",
      "### train score: 0.8508220502901354\n",
      "## epoch 3 \n",
      "### train score: 0.8619439071566731\n",
      "## epoch 4 \n",
      "### train score: 0.9383462282398453\n",
      "## epoch 5 \n",
      "### train score: 0.9702611218568665\n",
      "## epoch 6 \n",
      "### train score: 0.9842843326885881\n",
      "## epoch 7 \n",
      "### train score: 0.9900870406189555\n",
      "## epoch 8 \n",
      "### train score: 0.9920212765957447\n",
      "## epoch 9 \n",
      "### train score: 0.9934719535783365\n",
      "## epoch 10 \n",
      "### train score: 0.9944390715667312\n",
      "# Finish Training\n",
      "#################\n",
      "\n",
      "weights: [-3.51226496 -6.8865908   0.79817485 ... -1.04897809  0.98344422\n",
      "  0.86955599]\n",
      "train score: 0.9944390715667312\n",
      "test score: 0.9768115942028985\n"
     ]
    }
   ],
   "source": [
    "def estimate_spam_probability():\n",
    "\n",
    "    # Load the data\n",
    "    dataset = pd.read_csv('spam_ham_dataset.csv')\n",
    "    X, y = dataset['text'].copy(), dataset['label_num'].copy()\n",
    "    y[y == 0] = -1\n",
    "\n",
    "    # Preprocess the data, split to train & test sets\n",
    "    X_train, X_test, y_train, y_test = my_train_test_split(X, y)\n",
    "    X_train, X_test = preprocess_emails(X_train, X_test)\n",
    "\n",
    "    # Fit our model to the train data\n",
    "    logreg = LogisticRegression().fit(X_train, y_train, lr=0.3, epochs=10)\n",
    "\n",
    "    # Print results\n",
    "    print(f\"weights: {logreg.weights}\")\n",
    "    print(f\"train score: {logreg.score(X_train, y_train)}\")\n",
    "    print(f\"test score: {logreg.score(X_test, y_test)}\")\n",
    "\n",
    "    return logreg, X_train, y_train, X_test, y_test\n",
    "   \n",
    "\n",
    "estimator, X_train, y_train, X_test, y_test = estimate_spam_probability()"
   ]
  },
  {
   "attachments": {},
   "cell_type": "markdown",
   "metadata": {},
   "source": [
    "### 4 &ensp; ROC Curve"
   ]
  },
  {
   "attachments": {},
   "cell_type": "markdown",
   "metadata": {},
   "source": [
    "At last, we used the ROC curve to determine which threshold is the optimal one"
   ]
  },
  {
   "cell_type": "code",
   "execution_count": 7,
   "metadata": {},
   "outputs": [],
   "source": [
    "from sklearn.metrics import confusion_matrix\n",
    "\n",
    "def plot_roc_curve(clf, X, y, title):\n",
    "\n",
    "    # Determine candidate thresholds\n",
    "    thresholds = np.linspace(0, 1, 11)\n",
    "    pts = []\n",
    "\n",
    "    # Iterating over different thresholds\n",
    "    for th in thresholds:\n",
    "        \n",
    "        # Calculating metrics\n",
    "        y_pred = clf.predict(X, th)\n",
    "        E = confusion_matrix(y, y_pred)\n",
    "\n",
    "        pts.append((E[0,1]/(E[0,1]+E[0,0]), E[1,1]/(E[1,0]+E[1,1])))\n",
    "\n",
    "    # ROC curve        \n",
    "    xx, yy = zip(*pts)\n",
    "    plt.scatter(xx, yy, s=20, color = 'black')\n",
    "    plt.plot(xx, yy, c='red')\n",
    "        \n",
    "    # Reference line\n",
    "    x = np.linspace(0,1,20)\n",
    "    plt.plot(x, x, color='green', linestyle=':')\n",
    "\n",
    "    # Labels\n",
    "    plt.title(title)\n",
    "    plt.yticks([0,1],['0','1'])\n",
    "    plt.xlabel('False Positive Rate')\n",
    "    plt.ylabel('True Positive Rate (Recall)')\n"
   ]
  },
  {
   "cell_type": "code",
   "execution_count": 8,
   "metadata": {},
   "outputs": [
    {
     "data": {
      "image/png": "[encoded data removed]",
      "text/plain": [
       "<Figure size 432x288 with 1 Axes>"
      ]
     },
     "metadata": {
      "needs_background": "light"
     },
     "output_type": "display_data"
    }
   ],
   "source": [
    "plot_roc_curve(estimator, X_train, y_train, \"Train ROC\")"
   ]
  },
  {
   "cell_type": "code",
   "execution_count": 9,
   "metadata": {},
   "outputs": [
    {
     "data": {
      "image/png": "[encoded data removed]",
      "text/plain": [
       "<Figure size 432x288 with 1 Axes>"
      ]
     },
     "metadata": {
      "needs_background": "light"
     },
     "output_type": "display_data"
    }
   ],
   "source": [
    "plot_roc_curve(estimator, X_test, y_test, \"Test ROC\")"
   ]
  },
  {
   "attachments": {},
   "cell_type": "markdown",
   "metadata": {},
   "source": [
    "As we can see, the best threshold is somewhere between `0.2` and `0.4`, where `0` represents the right-upper point, and `1` represents the lower-left point."
   ]
  }
 ],
 "metadata": {
  "kernelspec": {
   "display_name": "base",
   "language": "python",
   "name": "python3"
  },
  "language_info": {
   "codemirror_mode": {
    "name": "ipython",
    "version": 3
   },
   "file_extension": ".py",
   "mimetype": "text/x-python",
   "name": "python",
   "nbconvert_exporter": "python",
   "pygments_lexer": "ipython3",
   "version": "3.9.0"
  },
  "orig_nbformat": 4
 },
 "nbformat": 4,
 "nbformat_minor": 2
}
