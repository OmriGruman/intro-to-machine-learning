{
 "cells": [
  {
   "attachments": {},
   "cell_type": "markdown",
   "metadata": {},
   "source": [
    "# Exercise 6"
   ]
  },
  {
   "cell_type": "code",
   "execution_count": 1,
   "metadata": {},
   "outputs": [
    {
     "name": "stderr",
     "output_type": "stream",
     "text": [
      "c:\\Users\\OmriG\\AppData\\Local\\Programs\\Python\\Python39\\lib\\site-packages\\scipy\\__init__.py:146: UserWarning: A NumPy version >=1.16.5 and <1.23.0 is required for this version of SciPy (detected version 1.24.2\n",
      "  warnings.warn(f\"A NumPy version >={np_minversion} and <{np_maxversion}\"\n"
     ]
    }
   ],
   "source": [
    "# Basic\n",
    "import random\n",
    "from functools import reduce\n",
    "\n",
    "# Data\n",
    "import numpy as np\n",
    "import matplotlib.pyplot as plt\n",
    "\n",
    "# ML\n",
    "from sklearn.model_selection import train_test_split\n",
    "\n",
    "# DL\n",
    "from tensorflow.keras.datasets import mnist"
   ]
  },
  {
   "attachments": {},
   "cell_type": "markdown",
   "metadata": {},
   "source": [
    "## 1. Data"
   ]
  },
  {
   "cell_type": "code",
   "execution_count": 2,
   "metadata": {},
   "outputs": [
    {
     "data": {
      "text/plain": [
       "((48000, 28, 28),\n",
       " (48000,),\n",
       " (12000, 28, 28),\n",
       " (12000,),\n",
       " (10000, 28, 28),\n",
       " (10000,))"
      ]
     },
     "execution_count": 2,
     "metadata": {},
     "output_type": "execute_result"
    }
   ],
   "source": [
    "(X_train, y_train),(X_test, y_test) = mnist.load_data()\n",
    "X_train, X_val, y_train, y_val = train_test_split(X_train, y_train, test_size=0.2, shuffle=True, random_state=42)\n",
    "\n",
    "X_train.shape, y_train.shape, X_val.shape, y_val.shape, X_test.shape, y_test.shape"
   ]
  },
  {
   "cell_type": "code",
   "execution_count": 3,
   "metadata": {},
   "outputs": [
    {
     "data": {
      "image/png": "[encoded data removed]",
      "text/plain": [
       "<Figure size 720x720 with 9 Axes>"
      ]
     },
     "metadata": {
      "needs_background": "light"
     },
     "output_type": "display_data"
    }
   ],
   "source": [
    "GRID_SIZE = 3\n",
    "\n",
    "pairs = list(zip(X_train, y_train))\n",
    "samples = random.sample(pairs, GRID_SIZE**2)\n",
    "\n",
    "fig, ax = plt.subplots(GRID_SIZE, GRID_SIZE, figsize=(10, 10))\n",
    "for i, (img, digit) in enumerate(samples):\n",
    "    row, col = i//GRID_SIZE, i%GRID_SIZE\n",
    "    ax[row, col].imshow(img)\n",
    "    ax[row, col].set_title(digit)\n",
    "    ax[row, col].axis('off')"
   ]
  },
  {
   "attachments": {},
   "cell_type": "markdown",
   "metadata": {},
   "source": [
    "## 2. Model"
   ]
  },
  {
   "cell_type": "code",
   "execution_count": 4,
   "metadata": {},
   "outputs": [],
   "source": [
    "def softmax(x):\n",
    "    return np.exp(x) / np.sum(np.exp(x), axis=1, keepdims=True)"
   ]
  },
  {
   "cell_type": "code",
   "execution_count": 5,
   "metadata": {},
   "outputs": [],
   "source": [
    "class NeuralNetwork:\n",
    "    def __init__(self, input_size, hidden_sizes, output_size, batch_norm=False):\n",
    "        self.activation_fn = lambda x: np.maximum(x, 0) # TODO add more options\n",
    "        self.batch_norm = batch_norm\n",
    "\n",
    "        layer_sizes = [input_size, *hidden_sizes, output_size]\n",
    "        self.weights = [\n",
    "            np.random.standard_normal((size_from, size_to))\n",
    "            for size_from, size_to in zip(layer_sizes[:-1], layer_sizes[1:])\n",
    "        ]\n",
    "\n",
    "    def __batch_norm(batch):\n",
    "        return batch\n",
    "\n",
    "    def fit(self, X, y, lr=1e-3, num_epochs=10):\n",
    "        # TODO implement\n",
    "        return self\n",
    "\n",
    "    def predict_proba(self, X):\n",
    "        return softmax(reduce(lambda x, w: self.activation_fn(x @ w), [X, *self.weights]))\n",
    "\n",
    "    def predict(self, X):\n",
    "        return np.argmax(self.predict_proba(X), axis=1)    \n",
    "\n",
    "    def score(self, X, y):\n",
    "        return (self.predict(X) == y).sum() / len(y)"
   ]
  },
  {
   "attachments": {},
   "cell_type": "markdown",
   "metadata": {},
   "source": [
    "## 3. Training"
   ]
  },
  {
   "cell_type": "code",
   "execution_count": 6,
   "metadata": {},
   "outputs": [
    {
     "name": "stderr",
     "output_type": "stream",
     "text": [
      "C:\\Users\\OmriG\\AppData\\Local\\Temp\\ipykernel_11164\\359680728.py:2: RuntimeWarning: overflow encountered in exp\n",
      "  return np.exp(x) / np.sum(np.exp(x), axis=1, keepdims=True)\n",
      "C:\\Users\\OmriG\\AppData\\Local\\Temp\\ipykernel_11164\\359680728.py:2: RuntimeWarning: invalid value encountered in divide\n",
      "  return np.exp(x) / np.sum(np.exp(x), axis=1, keepdims=True)\n"
     ]
    },
    {
     "data": {
      "text/plain": [
       "9.458333333333334"
      ]
     },
     "execution_count": 6,
     "metadata": {},
     "output_type": "execute_result"
    }
   ],
   "source": [
    "X_train_flat = X_train.reshape(X_train.shape[0], -1)\n",
    "X_val_flat = X_val.reshape(X_val.shape[0], -1)\n",
    "\n",
    "nn_clf = NeuralNetwork(input_size=X_train_flat.shape[1], \n",
    "                       hidden_sizes=[256, 256],\n",
    "                       output_size=np.unique(y_train).size).fit(X_train_flat, y_train)\n",
    "\n",
    "100 * nn_clf.score(X_val_flat, y_val)"
   ]
  },
  {
   "attachments": {},
   "cell_type": "markdown",
   "metadata": {},
   "source": [
    "## 4. Evaluation"
   ]
  },
  {
   "cell_type": "code",
   "execution_count": 7,
   "metadata": {},
   "outputs": [
    {
     "name": "stderr",
     "output_type": "stream",
     "text": [
      "C:\\Users\\OmriG\\AppData\\Local\\Temp\\ipykernel_11164\\359680728.py:2: RuntimeWarning: overflow encountered in exp\n",
      "  return np.exp(x) / np.sum(np.exp(x), axis=1, keepdims=True)\n",
      "C:\\Users\\OmriG\\AppData\\Local\\Temp\\ipykernel_11164\\359680728.py:2: RuntimeWarning: invalid value encountered in divide\n",
      "  return np.exp(x) / np.sum(np.exp(x), axis=1, keepdims=True)\n"
     ]
    },
    {
     "data": {
      "text/plain": [
       "9.85"
      ]
     },
     "execution_count": 7,
     "metadata": {},
     "output_type": "execute_result"
    }
   ],
   "source": [
    "X_test_flat = X_test.reshape(X_test.shape[0], -1)\n",
    "\n",
    "100 * nn_clf.score(X_test_flat, y_test)"
   ]
  },
  {
   "attachments": {},
   "cell_type": "markdown",
   "metadata": {},
   "source": [
    "## 5. Experiments"
   ]
  },
  {
   "cell_type": "code",
   "execution_count": null,
   "metadata": {},
   "outputs": [],
   "source": [
    "# TODO experiments"
   ]
  }
 ],
 "metadata": {
  "kernelspec": {
   "display_name": "base",
   "language": "python",
   "name": "python3"
  },
  "language_info": {
   "codemirror_mode": {
    "name": "ipython",
    "version": 3
   },
   "file_extension": ".py",
   "mimetype": "text/x-python",
   "name": "python",
   "nbconvert_exporter": "python",
   "pygments_lexer": "ipython3",
   "version": "3.9.0"
  },
  "orig_nbformat": 4
 },
 "nbformat": 4,
 "nbformat_minor": 2
}
