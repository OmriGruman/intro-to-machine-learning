{
 "cells": [
  {
   "attachments": {},
   "cell_type": "markdown",
   "metadata": {},
   "source": [
    "# Exercise 2"
   ]
  },
  {
   "attachments": {},
   "cell_type": "markdown",
   "metadata": {},
   "source": [
    "In this notebook we dived in the linear regression algorithm, using its closed solution.\\\n",
    "Then, we used polynomial features to help us transpose the data to fit more complex curves to the data."
   ]
  },
  {
   "attachments": {},
   "cell_type": "markdown",
   "metadata": {},
   "source": [
    "### Setup"
   ]
  },
  {
   "attachments": {},
   "cell_type": "markdown",
   "metadata": {},
   "source": [
    "First, we will import some important packages in order to analyze the data throughout the exercise."
   ]
  },
  {
   "cell_type": "code",
   "execution_count": 1,
   "metadata": {},
   "outputs": [
    {
     "name": "stderr",
     "output_type": "stream",
     "text": [
      "c:\\Users\\OmriG\\AppData\\Local\\Programs\\Python\\Python39\\lib\\site-packages\\scipy\\__init__.py:146: UserWarning: A NumPy version >=1.16.5 and <1.23.0 is required for this version of SciPy (detected version 1.24.2\n",
      "  warnings.warn(f\"A NumPy version >={np_minversion} and <{np_maxversion}\"\n"
     ]
    }
   ],
   "source": [
    "import numpy as np\n",
    "import pandas as pd\n",
    "\n",
    "import matplotlib.pyplot as plt\n",
    "\n",
    "from sklearn.datasets import fetch_california_housing\n",
    "from sklearn.preprocessing import PolynomialFeatures\n",
    "from sklearn.model_selection import train_test_split"
   ]
  },
  {
   "attachments": {},
   "cell_type": "markdown",
   "metadata": {},
   "source": [
    "### Question 2"
   ]
  },
  {
   "attachments": {},
   "cell_type": "markdown",
   "metadata": {},
   "source": [
    "Before we applied the Linear Regression, we had implemented it ourselves.\\\n",
    "Our class contains a few essential methods including 'fit', 'predict' and 'score', which will tell us the coefficient of determination."
   ]
  },
  {
   "cell_type": "code",
   "execution_count": 2,
   "metadata": {},
   "outputs": [],
   "source": [
    "class LinearRegression:\n",
    "\n",
    "    def __init__(self, bias=True):\n",
    "        self.bias = bias\n",
    "        self.weights = np.zeros(0)\n",
    "\n",
    "    def fit(self, X, y):\n",
    "        # Add bias if needed\n",
    "        Xa = np.c_[X, np.ones(X.shape[0])] if self.bias else X\n",
    "\n",
    "        # Calculate optimal weights\n",
    "        self.weights = (np.linalg.pinv(Xa.T @ Xa)) @ Xa.T @ y\n",
    "\n",
    "        return self\n",
    "\n",
    "    def predict(self, X):\n",
    "        # Add bias if needed\n",
    "        Xa = np.c_[X, np.ones(X.shape[0])] if self.bias else X\n",
    "\n",
    "        # Calculate predictions\n",
    "        return Xa @ self.weights\n",
    "\n",
    "    def score(self, X, y):\n",
    "        # Calculate the coefficient of determination\n",
    "        u = ((y - self.predict(X)) ** 2).sum()\n",
    "        v = ((y - y.mean()) ** 2).sum()\n",
    "        return 1 - (u / v)"
   ]
  },
  {
   "attachments": {},
   "cell_type": "markdown",
   "metadata": {},
   "source": [
    "### Question 3"
   ]
  },
  {
   "attachments": {},
   "cell_type": "markdown",
   "metadata": {},
   "source": [
    "One last preparation was to create our own 'train_test_split' method in order to have a better control over the test size and random state."
   ]
  },
  {
   "cell_type": "code",
   "execution_count": 3,
   "metadata": {},
   "outputs": [],
   "source": [
    "# Proxy function to control test size and random state\n",
    "def my_train_test_split(X, y):\n",
    "    return train_test_split(X, y, test_size=0.2, random_state=42)"
   ]
  },
  {
   "attachments": {},
   "cell_type": "markdown",
   "metadata": {},
   "source": [
    "First use of our Linear Regression was on the simple_regression data that was provided to us."
   ]
  },
  {
   "cell_type": "code",
   "execution_count": 4,
   "metadata": {},
   "outputs": [
    {
     "name": "stdout",
     "output_type": "stream",
     "text": [
      "weights: [ 1.54984427 10.01669245]\n",
      "train score: 0.9916151407161646\n",
      "test score: 0.9910862827942997\n"
     ]
    }
   ],
   "source": [
    "def simple_regression():\n",
    "\n",
    "    # Load and prepare data\n",
    "    dataset = pd.read_csv(\"simple_regression.csv\")\n",
    "    X, y = dataset['x'], dataset['y']\n",
    "    X_train, X_test, y_train, y_test = my_train_test_split(X, y)\n",
    "\n",
    "    # Fit linear regression to the data\n",
    "    linreg = LinearRegression().fit(X_train, y_train)\n",
    "\n",
    "    # Print results\n",
    "    print(f'weights: {linreg.weights}')\n",
    "    print(f'train score: {linreg.score(X_train, y_train)}')\n",
    "    print(f'test score: {linreg.score(X_test, y_test)}')\n",
    "\n",
    "simple_regression()"
   ]
  },
  {
   "attachments": {},
   "cell_type": "markdown",
   "metadata": {},
   "source": [
    "### Question 4"
   ]
  },
  {
   "attachments": {},
   "cell_type": "markdown",
   "metadata": {},
   "source": [
    "Then, we tried to predict california housing prices using scikit-learn's dataset."
   ]
  },
  {
   "cell_type": "code",
   "execution_count": 5,
   "metadata": {},
   "outputs": [
    {
     "name": "stdout",
     "output_type": "stream",
     "text": [
      "weights: [ 4.48674910e-01  9.72425752e-03 -1.23323343e-01  7.83144907e-01\n",
      " -2.02962058e-06 -3.52631849e-03 -4.19792487e-01 -4.33708065e-01\n",
      " -3.70232777e+01]\n",
      "train score: 0.6125511913966952\n",
      "test score: 0.5757877060338069\n"
     ]
    }
   ],
   "source": [
    "def predict_housing_prices():\n",
    "\n",
    "     # Load and prepare data\n",
    "    X, y = fetch_california_housing(return_X_y=True)\n",
    "    X_train, X_test, y_train, y_test = my_train_test_split(X, y)\n",
    "\n",
    "    # Fit linear regression to the data\n",
    "    linreg = LinearRegression().fit(X_train, y_train)\n",
    "\n",
    "    # Print results\n",
    "    print(f'weights: {linreg.weights}')\n",
    "    print(f'train score: {linreg.score(X_train, y_train)}')\n",
    "    print(f'test score: {linreg.score(X_test, y_test)}')  \n",
    "\n",
    "predict_housing_prices()"
   ]
  },
  {
   "attachments": {},
   "cell_type": "markdown",
   "metadata": {},
   "source": [
    "### Question 5"
   ]
  },
  {
   "attachments": {},
   "cell_type": "markdown",
   "metadata": {},
   "source": [
    "Last, we tried to predict Mars graduate wages according to another dataset that was provided to us.\\\n",
    "This time, we were not satisfied with only our raw features, and created polynomial features.\\\n",
    "We ran a few training setups, experimenting different polynomial degrees."
   ]
  },
  {
   "cell_type": "code",
   "execution_count": 6,
   "metadata": {},
   "outputs": [
    {
     "name": "stdout",
     "output_type": "stream",
     "text": [
      "\n",
      "--- evaluating polynomial dergee 1\n",
      "train score: 0.8964696036840755\n",
      "test score: 0.7339746996035298\n",
      "\n",
      "--- evaluating polynomial dergee 2\n",
      "train score: 0.9996726612512669\n",
      "test score: 0.9995733415584608\n",
      "\n",
      "--- evaluating polynomial dergee 3\n",
      "train score: 0.9953644552677052\n",
      "test score: 0.9483068265900705\n",
      "\n",
      "--- evaluating polynomial dergee 4\n",
      "train score: 0.9082514187357021\n",
      "test score: 0.472093479796338\n",
      "\n",
      "--- evaluating polynomial dergee 5\n",
      "train score: 0.7345455749221129\n",
      "test score: -0.27331584084188765\n"
     ]
    },
    {
     "data": {
      "image/png": "[encoded data removed]",
      "text/plain": [
       "<Figure size 720x720 with 1 Axes>"
      ]
     },
     "metadata": {
      "needs_background": "light"
     },
     "output_type": "display_data"
    }
   ],
   "source": [
    "def predict_mars_graduate_wages():\n",
    "\n",
    "    # Load data\n",
    "    dataset = pd.read_csv(\"Students_on_Mars.csv\")\n",
    "    X, y = dataset.drop(columns=['y']), dataset['y']\n",
    "\n",
    "    # Iterate over degree range\n",
    "    results = {}\n",
    "    for d in range(1, 6):\n",
    "\n",
    "        print(f'\\n--- evaluating polynomial dergee {d}')\n",
    "        \n",
    "        # Transforming the data using polynomial features\n",
    "        Z = PolynomialFeatures(d).fit_transform(X)\n",
    "        Z_train, Z_test, y_train, y_test = my_train_test_split(Z, y)\n",
    "\n",
    "        # Fit linear regression to the data\n",
    "        linreg = LinearRegression(bias=False).fit(Z_train, y_train)\n",
    "        \n",
    "        # Print results\n",
    "        print(f'train score: {linreg.score(Z_train, y_train)}')\n",
    "        print(f'test score: {linreg.score(Z_test, y_test)}') \n",
    "\n",
    "        # Store results to plot later\n",
    "        results[d] = (linreg.score(Z_train, y_train), linreg.score(Z_test, y_test))\n",
    "\n",
    "    # Plot results\n",
    "    plt.figure(figsize=(10,10))\n",
    "    plt.scatter(x=results.keys(), y=list(zip(*results.values()))[0], color='r', label=\"train\")\n",
    "    plt.scatter(x=results.keys(), y=list(zip(*results.values()))[1], color='b', label=\"test\", marker='x')\n",
    "    plt.legend()\n",
    "    plt.xlabel('polynomial degree')\n",
    "    plt.ylabel('score - coefficient of determination')\n",
    "\n",
    "predict_mars_graduate_wages()"
   ]
  },
  {
   "attachments": {},
   "cell_type": "markdown",
   "metadata": {},
   "source": [
    "According to our experiment, we can conclude that for the Mars Graduate Students dataset, the best polynomial degree was 2."
   ]
  }
 ],
 "metadata": {
  "kernelspec": {
   "display_name": "Python 3",
   "language": "python",
   "name": "python3"
  },
  "language_info": {
   "codemirror_mode": {
    "name": "ipython",
    "version": 3
   },
   "file_extension": ".py",
   "mimetype": "text/x-python",
   "name": "python",
   "nbconvert_exporter": "python",
   "pygments_lexer": "ipython3",
   "version": "3.9.0"
  },
  "orig_nbformat": 4
 },
 "nbformat": 4,
 "nbformat_minor": 2
}
