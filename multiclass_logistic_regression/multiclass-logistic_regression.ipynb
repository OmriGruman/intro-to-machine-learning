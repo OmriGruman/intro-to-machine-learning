{
 "cells": [
  {
   "attachments": {},
   "cell_type": "markdown",
   "metadata": {},
   "source": [
    "# Exercise 5"
   ]
  },
  {
   "cell_type": "code",
   "execution_count": null,
   "metadata": {},
   "outputs": [],
   "source": [
    "import numpy as np\n",
    "import pandas as pd\n",
    "import matplotlib.pyplot as plt\n",
    "\n",
    "from sklearn.model_selection import train_test_split"
   ]
  },
  {
   "attachments": {},
   "cell_type": "markdown",
   "metadata": {},
   "source": [
    "## 1. Data"
   ]
  },
  {
   "attachments": {},
   "cell_type": "markdown",
   "metadata": {},
   "source": [
    "## 2. Model"
   ]
  },
  {
   "attachments": {},
   "cell_type": "markdown",
   "metadata": {},
   "source": [
    "### 2.1 Approach"
   ]
  },
  {
   "attachments": {},
   "cell_type": "markdown",
   "metadata": {},
   "source": [
    "### 2.3 Loss Function"
   ]
  },
  {
   "attachments": {},
   "cell_type": "markdown",
   "metadata": {},
   "source": [
    "For the error function we follow the Maximum Likelihood paradime.\n",
    "\n",
    "In binary Logistic Regression we search for $h=h_w$ that maximizes:\n",
    "\n",
    "$$\n",
    "\\Pi_{i: y_i=1} h(x_i) \\Pi_{y_i=-1}(1-h(x_i))\n",
    "$$\n",
    "\n",
    "But in Multiclass Logistic Regression we search for $h=h_w$ that maximizes:\n",
    "\n",
    "$$\n",
    "\\Pi_{i: y_i=0} (h_w(x_i))_c \\Pi_{i: y_i=1} (h_w(x_i))_c \\ldots \\Pi_{i: y_i=C-1} (h_w(x_i))_c\\\\\n",
    "= \\Pi_{c=0}^{C-1} \\Pi_{i: y_i=c} (h_w(x_i))_c\n",
    "$$\n",
    "\n",
    "We have:\n",
    "\n",
    "$$\n",
    "argmax_w \\Pi_{c=0}^{C-1} \\Pi_{i: y_i=c} (h_w(x_i))_c\\\\\n",
    "= argmax_w \\Pi_{c=0}^{C-1} \\Pi_{i: y_i=c} (softmax(w^t x_i))_c\n",
    "$$\n",
    "We will define:\n",
    "$$\n",
    "softmax(w^t x_i) = pred_c\\\\\n",
    "$$\n",
    "Therefore:\n",
    "$$\n",
    "argmax_w \\Pi_{c=0}^{C-1} \\Pi_{i: y_i=c} pred_c\\\\\n",
    "= argmax_w \\sum_{c=0}^{C-1} \\sum_{i: y_i=c} ln[pred_c]\\\\\n",
    "= argmin_w -\\frac{1}{N} \\sum_{c=0}^{C-1} \\sum_{i: y_i=c} ln[pred_c]\n",
    "$$"
   ]
  },
  {
   "attachments": {},
   "cell_type": "markdown",
   "metadata": {},
   "source": [
    "### 2.2 Implementation"
   ]
  },
  {
   "cell_type": "code",
   "execution_count": 2,
   "metadata": {},
   "outputs": [],
   "source": [
    "def sigmoid(z):\n",
    "        return 1 / (1 + np.exp(-z))"
   ]
  },
  {
   "cell_type": "code",
   "execution_count": 3,
   "metadata": {},
   "outputs": [],
   "source": [
    "class LogisticRegression:\n",
    "\n",
    "    def fit(self, X, y, lr=1e-1, epochs=10):\n",
    "        \n",
    "        # Initialize random weights\n",
    "        self.weights = np.random.standard_normal(X.shape[1])\n",
    "\n",
    "        # Start training our model\n",
    "        for e in range(1, epochs + 1):\n",
    "            print(f\"--------------- epoch {e}/{epochs} ---------------\")\n",
    "            \n",
    "            # Calculate gradient\n",
    "            gradient = np.zeros_like(self.weights)\n",
    "            for xi, yi in zip(X, y):\n",
    "                gradient += sigmoid(-yi * self.weights @ xi) * (-yi) * xi\n",
    "            \n",
    "            # Update weights\n",
    "            self.weights -= lr * gradient\n",
    "\n",
    "            print(f\"  train score: {self.score(X, y)}\")\n",
    "\n",
    "        return self\n",
    "\n",
    "    def predict_proba(self, X):\n",
    "        # Use sigmoid to estimate the probability of X being labeled as positive\n",
    "        return sigmoid(X @ self.weights)\n",
    "\n",
    "    def predict(self, X, threshold=0.5):\n",
    "        # Predict the labels according to the threshold\n",
    "        return 2 * (self.predict_proba(X) >= threshold) - 1\n",
    "\n",
    "    def score(self, X, y):\n",
    "        # Calculating the accuracy score of our predictions\n",
    "        return (self.predict(X) == y).sum() / len(y)"
   ]
  },
  {
   "attachments": {},
   "cell_type": "markdown",
   "metadata": {},
   "source": [
    "## 3. Experiments"
   ]
  },
  {
   "attachments": {},
   "cell_type": "markdown",
   "metadata": {},
   "source": [
    "## 4. Evaluation"
   ]
  }
 ],
 "metadata": {
  "kernelspec": {
   "display_name": "base",
   "language": "python",
   "name": "python3"
  },
  "language_info": {
   "codemirror_mode": {
    "name": "ipython",
    "version": 3
   },
   "file_extension": ".py",
   "mimetype": "text/x-python",
   "name": "python",
   "nbconvert_exporter": "python",
   "pygments_lexer": "ipython3",
   "version": "3.9.0"
  },
  "orig_nbformat": 4
 },
 "nbformat": 4,
 "nbformat_minor": 2
}
